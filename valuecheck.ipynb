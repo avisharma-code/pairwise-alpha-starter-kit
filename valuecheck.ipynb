{
 "cells": [
  {
   "cell_type": "code",
   "execution_count": 1,
   "metadata": {},
   "outputs": [],
   "source": [
    "import pandas as pd\n",
    "import numpy as np"
   ]
  },
  {
   "cell_type": "code",
   "execution_count": 2,
   "metadata": {},
   "outputs": [],
   "source": [
    "btc = pd.read_csv(\"data/BTC_1H.csv\", parse_dates=[\"timestamp\"]).rename(columns={\"close\": \"close_BTC\"})\n",
    "eth = pd.read_csv(\"data/ETH_1H.csv\", parse_dates=[\"timestamp\"]).rename(columns={\"close\": \"close_ETH\"})\n",
    "sol = pd.read_csv(\"data/SOL_1H.csv\", parse_dates=[\"timestamp\"]).rename(columns={\"close\": \"close_SOL\"})\n",
    "ltc = pd.read_csv(\"data/LTC_1H.csv\", parse_dates=[\"timestamp\"])\n",
    "\n"
   ]
  },
  {
   "cell_type": "code",
   "execution_count": 3,
   "metadata": {},
   "outputs": [],
   "source": [
    "anchor = pd.merge(\n",
    "    btc[[\"timestamp\", \"close_BTC\"]],\n",
    "    eth[[\"timestamp\", \"close_ETH\"]],\n",
    "    on=\"timestamp\", how=\"inner\"\n",
    ")\n",
    "\n"
   ]
  },
  {
   "cell_type": "code",
   "execution_count": 4,
   "metadata": {},
   "outputs": [
    {
     "name": "stdout",
     "output_type": "stream",
     "text": [
      "Avg daily USD volume: 104172627.2808361\n"
     ]
    }
   ],
   "source": [
    "\n",
    "ltc[\"usd_volume\"] = ltc[\"close\"] * ltc[\"volume\"]\n",
    "ltc = ltc[ltc[\"timestamp\"] < \"2025-05-09\"]\n",
    "daily = ltc.set_index(\"timestamp\")[\"usd_volume\"].resample(\"D\").sum()\n",
    "print(\"Avg daily USD volume:\", daily.mean())\n"
   ]
  },
  {
   "cell_type": "markdown",
   "metadata": {},
   "source": [
    "##Eligibility of LTC confirmed"
   ]
  },
  {
   "cell_type": "code",
   "execution_count": null,
   "metadata": {},
   "outputs": [],
   "source": [
    "from strategy import generate_signals\n",
    "from backtest import backtest_signals"
   ]
  },
  {
   "cell_type": "code",
   "execution_count": 6,
   "metadata": {},
   "outputs": [
    {
     "name": "stdout",
     "output_type": "stream",
     "text": [
      "signal\n",
      "HOLD    3034\n",
      "SELL      19\n",
      "BUY       19\n",
      "Name: count, dtype: int64\n"
     ]
    }
   ],
   "source": [
    "signals = generate_signals(ltc, anchor)\n",
    "print(signals['signal'].value_counts())\n",
    "\n"
   ]
  },
  {
   "cell_type": "code",
   "execution_count": 7,
   "metadata": {},
   "outputs": [],
   "source": [
    "results_df, metrics = backtest_signals(signals, ltc)\n"
   ]
  },
  {
   "cell_type": "code",
   "execution_count": 8,
   "metadata": {},
   "outputs": [
    {
     "name": "stdout",
     "output_type": "stream",
     "text": [
      "{'final_capital': np.float64(1429.85), 'final_return_pct': np.float64(42.98), 'sharpe_ratio': np.float64(0.0189), 'max_drawdown_pct': np.float64(20.76)}\n"
     ]
    }
   ],
   "source": [
    "print(metrics)"
   ]
  },
  {
   "cell_type": "code",
   "execution_count": 9,
   "metadata": {},
   "outputs": [
    {
     "data": {
      "text/html": [
       "<div>\n",
       "<style scoped>\n",
       "    .dataframe tbody tr th:only-of-type {\n",
       "        vertical-align: middle;\n",
       "    }\n",
       "\n",
       "    .dataframe tbody tr th {\n",
       "        vertical-align: top;\n",
       "    }\n",
       "\n",
       "    .dataframe thead th {\n",
       "        text-align: right;\n",
       "    }\n",
       "</style>\n",
       "<table border=\"1\" class=\"dataframe\">\n",
       "  <thead>\n",
       "    <tr style=\"text-align: right;\">\n",
       "      <th></th>\n",
       "      <th>timestamp</th>\n",
       "      <th>signal</th>\n",
       "      <th>close</th>\n",
       "      <th>position</th>\n",
       "      <th>cash</th>\n",
       "      <th>holdings</th>\n",
       "      <th>capital</th>\n",
       "      <th>returns</th>\n",
       "    </tr>\n",
       "  </thead>\n",
       "  <tbody>\n",
       "    <tr>\n",
       "      <th>406</th>\n",
       "      <td>2025-01-17 22:00:00</td>\n",
       "      <td>SELL</td>\n",
       "      <td>134.99</td>\n",
       "      <td>0</td>\n",
       "      <td>1000.000000</td>\n",
       "      <td>0.000000</td>\n",
       "      <td>1000.000000</td>\n",
       "      <td>0.000000</td>\n",
       "    </tr>\n",
       "    <tr>\n",
       "      <th>411</th>\n",
       "      <td>2025-01-18 03:00:00</td>\n",
       "      <td>BUY</td>\n",
       "      <td>129.68</td>\n",
       "      <td>0</td>\n",
       "      <td>0.000000</td>\n",
       "      <td>7.703578</td>\n",
       "      <td>999.000000</td>\n",
       "      <td>-0.001000</td>\n",
       "    </tr>\n",
       "    <tr>\n",
       "      <th>577</th>\n",
       "      <td>2025-01-25 01:00:00</td>\n",
       "      <td>SELL</td>\n",
       "      <td>124.66</td>\n",
       "      <td>0</td>\n",
       "      <td>959.367710</td>\n",
       "      <td>0.000000</td>\n",
       "      <td>959.367710</td>\n",
       "      <td>0.038054</td>\n",
       "    </tr>\n",
       "    <tr>\n",
       "      <th>582</th>\n",
       "      <td>2025-01-25 06:00:00</td>\n",
       "      <td>BUY</td>\n",
       "      <td>121.96</td>\n",
       "      <td>0</td>\n",
       "      <td>0.000000</td>\n",
       "      <td>7.858383</td>\n",
       "      <td>958.408342</td>\n",
       "      <td>-0.001000</td>\n",
       "    </tr>\n",
       "    <tr>\n",
       "      <th>710</th>\n",
       "      <td>2025-01-30 14:00:00</td>\n",
       "      <td>BUY</td>\n",
       "      <td>131.27</td>\n",
       "      <td>0</td>\n",
       "      <td>0.000000</td>\n",
       "      <td>7.858383</td>\n",
       "      <td>1031.569885</td>\n",
       "      <td>-0.009507</td>\n",
       "    </tr>\n",
       "    <tr>\n",
       "      <th>715</th>\n",
       "      <td>2025-01-30 19:00:00</td>\n",
       "      <td>SELL</td>\n",
       "      <td>128.67</td>\n",
       "      <td>0</td>\n",
       "      <td>1010.126952</td>\n",
       "      <td>0.000000</td>\n",
       "      <td>1010.126952</td>\n",
       "      <td>-0.007939</td>\n",
       "    </tr>\n",
       "    <tr>\n",
       "      <th>732</th>\n",
       "      <td>2025-01-31 12:00:00</td>\n",
       "      <td>BUY</td>\n",
       "      <td>132.15</td>\n",
       "      <td>0</td>\n",
       "      <td>0.000000</td>\n",
       "      <td>7.636147</td>\n",
       "      <td>1009.116825</td>\n",
       "      <td>-0.001000</td>\n",
       "    </tr>\n",
       "    <tr>\n",
       "      <th>737</th>\n",
       "      <td>2025-01-31 17:00:00</td>\n",
       "      <td>SELL</td>\n",
       "      <td>128.18</td>\n",
       "      <td>0</td>\n",
       "      <td>977.822520</td>\n",
       "      <td>0.000000</td>\n",
       "      <td>977.822520</td>\n",
       "      <td>-0.009040</td>\n",
       "    </tr>\n",
       "    <tr>\n",
       "      <th>817</th>\n",
       "      <td>2025-02-04 01:00:00</td>\n",
       "      <td>SELL</td>\n",
       "      <td>107.57</td>\n",
       "      <td>0</td>\n",
       "      <td>977.822520</td>\n",
       "      <td>0.000000</td>\n",
       "      <td>977.822520</td>\n",
       "      <td>0.000000</td>\n",
       "    </tr>\n",
       "    <tr>\n",
       "      <th>821</th>\n",
       "      <td>2025-02-04 05:00:00</td>\n",
       "      <td>BUY</td>\n",
       "      <td>99.77</td>\n",
       "      <td>0</td>\n",
       "      <td>0.000000</td>\n",
       "      <td>9.790966</td>\n",
       "      <td>976.844697</td>\n",
       "      <td>-0.001000</td>\n",
       "    </tr>\n",
       "    <tr>\n",
       "      <th>840</th>\n",
       "      <td>2025-02-05 00:00:00</td>\n",
       "      <td>BUY</td>\n",
       "      <td>101.41</td>\n",
       "      <td>0</td>\n",
       "      <td>0.000000</td>\n",
       "      <td>9.790966</td>\n",
       "      <td>992.901882</td>\n",
       "      <td>0.003364</td>\n",
       "    </tr>\n",
       "    <tr>\n",
       "      <th>845</th>\n",
       "      <td>2025-02-05 05:00:00</td>\n",
       "      <td>SELL</td>\n",
       "      <td>103.15</td>\n",
       "      <td>0</td>\n",
       "      <td>1008.928225</td>\n",
       "      <td>0.000000</td>\n",
       "      <td>1008.928225</td>\n",
       "      <td>0.004453</td>\n",
       "    </tr>\n",
       "    <tr>\n",
       "      <th>855</th>\n",
       "      <td>2025-02-05 15:00:00</td>\n",
       "      <td>SELL</td>\n",
       "      <td>107.59</td>\n",
       "      <td>0</td>\n",
       "      <td>1008.928225</td>\n",
       "      <td>0.000000</td>\n",
       "      <td>1008.928225</td>\n",
       "      <td>0.000000</td>\n",
       "    </tr>\n",
       "    <tr>\n",
       "      <th>860</th>\n",
       "      <td>2025-02-05 20:00:00</td>\n",
       "      <td>BUY</td>\n",
       "      <td>104.28</td>\n",
       "      <td>0</td>\n",
       "      <td>0.000000</td>\n",
       "      <td>9.665509</td>\n",
       "      <td>1007.919297</td>\n",
       "      <td>-0.001000</td>\n",
       "    </tr>\n",
       "    <tr>\n",
       "      <th>1006</th>\n",
       "      <td>2025-02-11 22:00:00</td>\n",
       "      <td>BUY</td>\n",
       "      <td>119.31</td>\n",
       "      <td>0</td>\n",
       "      <td>0.000000</td>\n",
       "      <td>9.665509</td>\n",
       "      <td>1153.191900</td>\n",
       "      <td>-0.005253</td>\n",
       "    </tr>\n",
       "    <tr>\n",
       "      <th>1011</th>\n",
       "      <td>2025-02-12 03:00:00</td>\n",
       "      <td>SELL</td>\n",
       "      <td>117.47</td>\n",
       "      <td>0</td>\n",
       "      <td>1134.271955</td>\n",
       "      <td>0.000000</td>\n",
       "      <td>1134.271955</td>\n",
       "      <td>0.001558</td>\n",
       "    </tr>\n",
       "    <tr>\n",
       "      <th>1145</th>\n",
       "      <td>2025-02-17 17:00:00</td>\n",
       "      <td>SELL</td>\n",
       "      <td>121.12</td>\n",
       "      <td>0</td>\n",
       "      <td>1134.271955</td>\n",
       "      <td>0.000000</td>\n",
       "      <td>1134.271955</td>\n",
       "      <td>0.000000</td>\n",
       "    </tr>\n",
       "    <tr>\n",
       "      <th>1150</th>\n",
       "      <td>2025-02-17 22:00:00</td>\n",
       "      <td>BUY</td>\n",
       "      <td>122.83</td>\n",
       "      <td>0</td>\n",
       "      <td>0.000000</td>\n",
       "      <td>9.225252</td>\n",
       "      <td>1133.137683</td>\n",
       "      <td>-0.001000</td>\n",
       "    </tr>\n",
       "    <tr>\n",
       "      <th>1361</th>\n",
       "      <td>2025-02-26 17:00:00</td>\n",
       "      <td>SELL</td>\n",
       "      <td>125.02</td>\n",
       "      <td>0</td>\n",
       "      <td>1152.187644</td>\n",
       "      <td>0.000000</td>\n",
       "      <td>1152.187644</td>\n",
       "      <td>-0.018507</td>\n",
       "    </tr>\n",
       "    <tr>\n",
       "      <th>1366</th>\n",
       "      <td>2025-02-26 22:00:00</td>\n",
       "      <td>BUY</td>\n",
       "      <td>127.80</td>\n",
       "      <td>0</td>\n",
       "      <td>0.000000</td>\n",
       "      <td>9.006537</td>\n",
       "      <td>1151.035456</td>\n",
       "      <td>-0.001000</td>\n",
       "    </tr>\n",
       "  </tbody>\n",
       "</table>\n",
       "</div>"
      ],
      "text/plain": [
       "               timestamp signal   close  ...  holdings      capital   returns\n",
       "406  2025-01-17 22:00:00   SELL  134.99  ...  0.000000  1000.000000  0.000000\n",
       "411  2025-01-18 03:00:00    BUY  129.68  ...  7.703578   999.000000 -0.001000\n",
       "577  2025-01-25 01:00:00   SELL  124.66  ...  0.000000   959.367710  0.038054\n",
       "582  2025-01-25 06:00:00    BUY  121.96  ...  7.858383   958.408342 -0.001000\n",
       "710  2025-01-30 14:00:00    BUY  131.27  ...  7.858383  1031.569885 -0.009507\n",
       "715  2025-01-30 19:00:00   SELL  128.67  ...  0.000000  1010.126952 -0.007939\n",
       "732  2025-01-31 12:00:00    BUY  132.15  ...  7.636147  1009.116825 -0.001000\n",
       "737  2025-01-31 17:00:00   SELL  128.18  ...  0.000000   977.822520 -0.009040\n",
       "817  2025-02-04 01:00:00   SELL  107.57  ...  0.000000   977.822520  0.000000\n",
       "821  2025-02-04 05:00:00    BUY   99.77  ...  9.790966   976.844697 -0.001000\n",
       "840  2025-02-05 00:00:00    BUY  101.41  ...  9.790966   992.901882  0.003364\n",
       "845  2025-02-05 05:00:00   SELL  103.15  ...  0.000000  1008.928225  0.004453\n",
       "855  2025-02-05 15:00:00   SELL  107.59  ...  0.000000  1008.928225  0.000000\n",
       "860  2025-02-05 20:00:00    BUY  104.28  ...  9.665509  1007.919297 -0.001000\n",
       "1006 2025-02-11 22:00:00    BUY  119.31  ...  9.665509  1153.191900 -0.005253\n",
       "1011 2025-02-12 03:00:00   SELL  117.47  ...  0.000000  1134.271955  0.001558\n",
       "1145 2025-02-17 17:00:00   SELL  121.12  ...  0.000000  1134.271955  0.000000\n",
       "1150 2025-02-17 22:00:00    BUY  122.83  ...  9.225252  1133.137683 -0.001000\n",
       "1361 2025-02-26 17:00:00   SELL  125.02  ...  0.000000  1152.187644 -0.018507\n",
       "1366 2025-02-26 22:00:00    BUY  127.80  ...  9.006537  1151.035456 -0.001000\n",
       "\n",
       "[20 rows x 8 columns]"
      ]
     },
     "execution_count": 9,
     "metadata": {},
     "output_type": "execute_result"
    }
   ],
   "source": [
    "results_df[results_df[\"signal\"] != \"HOLD\"].head(20)\n"
   ]
  },
  {
   "cell_type": "code",
   "execution_count": 10,
   "metadata": {},
   "outputs": [
    {
     "data": {
      "text/plain": [
       "<Axes: title={'center': 'Capital Curve'}>"
      ]
     },
     "execution_count": 10,
     "metadata": {},
     "output_type": "execute_result"
    },
    {
     "data": {
      "image/png": "[encoded data removed]",
      "text/plain": [
       "<Figure size 640x480 with 1 Axes>"
      ]
     },
     "metadata": {},
     "output_type": "display_data"
    }
   ],
   "source": [
    "from matplotlib import pyplot\n",
    "results_df[\"capital\"].plot(title=\"Capital Curve\")\n"
   ]
  }
 ],
 "metadata": {
  "kernelspec": {
   "display_name": ".venv",
   "language": "python",
   "name": "python3"
  },
  "language_info": {
   "codemirror_mode": {
    "name": "ipython",
    "version": 3
   },
   "file_extension": ".py",
   "mimetype": "text/x-python",
   "name": "python",
   "nbconvert_exporter": "python",
   "pygments_lexer": "ipython3",
   "version": "3.13.3"
  }
 },
 "nbformat": 4,
 "nbformat_minor": 2
}
