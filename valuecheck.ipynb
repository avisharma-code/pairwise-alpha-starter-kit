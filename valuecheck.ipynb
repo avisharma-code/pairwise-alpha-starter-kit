{
 "cells": [
  {
   "cell_type": "code",
   "execution_count": 11,
   "metadata": {},
   "outputs": [],
   "source": [
    "import pandas as pd\n",
    "import numpy as np"
   ]
  },
  {
   "cell_type": "code",
   "execution_count": null,
   "metadata": {},
   "outputs": [],
   "source": [
    "btc = pd.read_csv(\"data/BTC_1H.csv\", parse_dates=[\"timestamp\"]).rename(columns={\"close\": \"close_BTC\"})\n",
    "eth = pd.read_csv(\"data/ETH_1H.csv\", parse_dates=[\"timestamp\"]).rename(columns={\"close\": \"close_ETH\"})\n",
    "sol = pd.read_csv(\"data/SOL_1H.csv\", parse_dates=[\"timestamp\"]).rename(columns={\"close\": \"close_SOL\"})\n",
    "ltc = pd.read_csv(\"data/LTC_1H.csv\", parse_dates=[\"timestamp\"])\n",
    "\n"
   ]
  },
  {
   "cell_type": "code",
   "execution_count": 13,
   "metadata": {},
   "outputs": [],
   "source": [
    "anchor = pd.merge(\n",
    "    btc[[\"timestamp\", \"close_BTC\"]],\n",
    "    eth[[\"timestamp\", \"close_ETH\"]],\n",
    "    on=\"timestamp\", how=\"inner\"\n",
    ")\n",
    "\n"
   ]
  },
  {
   "cell_type": "code",
   "execution_count": 14,
   "metadata": {},
   "outputs": [
    {
     "name": "stdout",
     "output_type": "stream",
     "text": [
      "Avg daily USD volume: 104179578.40720329\n"
     ]
    }
   ],
   "source": [
    "\n",
    "ltc[\"usd_volume\"] = ltc[\"close\"] * ltc[\"volume\"]\n",
    "ltc = ltc[ltc[\"timestamp\"] < \"2025-05-09\"]\n",
    "daily = ltc.set_index(\"timestamp\")[\"usd_volume\"].resample(\"D\").sum()\n",
    "print(\"Avg daily USD volume:\", daily.mean())\n"
   ]
  },
  {
   "cell_type": "markdown",
   "metadata": {},
   "source": [
    "##Eligibility of LTC confirmed"
   ]
  },
  {
   "cell_type": "code",
   "execution_count": 15,
   "metadata": {},
   "outputs": [],
   "source": [
    "from strategy2 import generate_signals\n",
    "from backtest import backtest_signals"
   ]
  },
  {
   "cell_type": "code",
   "execution_count": 16,
   "metadata": {},
   "outputs": [
    {
     "name": "stdout",
     "output_type": "stream",
     "text": [
      "signal\n",
      "HOLD    745\n",
      "BUY      12\n",
      "SELL     11\n",
      "Name: count, dtype: int64\n",
      "Index(['timestamp', 'signal'], dtype='object')\n"
     ]
    }
   ],
   "source": [
    "signals = generate_signals(ltc, anchor)\n",
    "print(signals['signal'].value_counts())\n",
    "\n",
    "print(signals.columns)\n",
    "\n"
   ]
  },
  {
   "cell_type": "code",
   "execution_count": 17,
   "metadata": {},
   "outputs": [],
   "source": [
    "results_df, metrics = backtest_signals(signals, ltc)\n"
   ]
  },
  {
   "cell_type": "code",
   "execution_count": 18,
   "metadata": {},
   "outputs": [
    {
     "name": "stdout",
     "output_type": "stream",
     "text": [
      "{'final_capital': np.float64(1088.64), 'final_return_pct': np.float64(8.86), 'sharpe_ratio': np.float64(0.0181), 'max_drawdown_pct': np.float64(15.03)}\n"
     ]
    }
   ],
   "source": [
    "print(metrics)"
   ]
  },
  {
   "cell_type": "code",
   "execution_count": 19,
   "metadata": {},
   "outputs": [
    {
     "data": {
      "text/html": [
       "<div>\n",
       "<style scoped>\n",
       "    .dataframe tbody tr th:only-of-type {\n",
       "        vertical-align: middle;\n",
       "    }\n",
       "\n",
       "    .dataframe tbody tr th {\n",
       "        vertical-align: top;\n",
       "    }\n",
       "\n",
       "    .dataframe thead th {\n",
       "        text-align: right;\n",
       "    }\n",
       "</style>\n",
       "<table border=\"1\" class=\"dataframe\">\n",
       "  <thead>\n",
       "    <tr style=\"text-align: right;\">\n",
       "      <th></th>\n",
       "      <th>timestamp</th>\n",
       "      <th>signal</th>\n",
       "      <th>close</th>\n",
       "      <th>position</th>\n",
       "      <th>cash</th>\n",
       "      <th>holdings</th>\n",
       "      <th>capital</th>\n",
       "      <th>returns</th>\n",
       "    </tr>\n",
       "  </thead>\n",
       "  <tbody>\n",
       "    <tr>\n",
       "      <th>58</th>\n",
       "      <td>2025-01-10 16:00:00</td>\n",
       "      <td>SELL</td>\n",
       "      <td>106.10</td>\n",
       "      <td>0</td>\n",
       "      <td>1000.000000</td>\n",
       "      <td>0.000000</td>\n",
       "      <td>1000.000000</td>\n",
       "      <td>0.000000</td>\n",
       "    </tr>\n",
       "    <tr>\n",
       "      <th>63</th>\n",
       "      <td>2025-01-11 12:00:00</td>\n",
       "      <td>BUY</td>\n",
       "      <td>103.25</td>\n",
       "      <td>0</td>\n",
       "      <td>0.000000</td>\n",
       "      <td>9.675545</td>\n",
       "      <td>999.000000</td>\n",
       "      <td>-0.001000</td>\n",
       "    </tr>\n",
       "    <tr>\n",
       "      <th>70</th>\n",
       "      <td>2025-01-12 16:00:00</td>\n",
       "      <td>BUY</td>\n",
       "      <td>103.92</td>\n",
       "      <td>0</td>\n",
       "      <td>0.000000</td>\n",
       "      <td>9.675545</td>\n",
       "      <td>1005.482615</td>\n",
       "      <td>0.010305</td>\n",
       "    </tr>\n",
       "    <tr>\n",
       "      <th>72</th>\n",
       "      <td>2025-01-13 00:00:00</td>\n",
       "      <td>SELL</td>\n",
       "      <td>100.60</td>\n",
       "      <td>0</td>\n",
       "      <td>972.386446</td>\n",
       "      <td>0.000000</td>\n",
       "      <td>972.386446</td>\n",
       "      <td>-0.017985</td>\n",
       "    </tr>\n",
       "    <tr>\n",
       "      <th>359</th>\n",
       "      <td>2025-03-01 20:00:00</td>\n",
       "      <td>BUY</td>\n",
       "      <td>124.31</td>\n",
       "      <td>0</td>\n",
       "      <td>0.000000</td>\n",
       "      <td>7.814448</td>\n",
       "      <td>971.414060</td>\n",
       "      <td>-0.001000</td>\n",
       "    </tr>\n",
       "    <tr>\n",
       "      <th>364</th>\n",
       "      <td>2025-03-02 16:00:00</td>\n",
       "      <td>SELL</td>\n",
       "      <td>126.46</td>\n",
       "      <td>0</td>\n",
       "      <td>987.226909</td>\n",
       "      <td>0.000000</td>\n",
       "      <td>987.226909</td>\n",
       "      <td>0.040296</td>\n",
       "    </tr>\n",
       "    <tr>\n",
       "      <th>406</th>\n",
       "      <td>2025-03-09 16:00:00</td>\n",
       "      <td>SELL</td>\n",
       "      <td>97.31</td>\n",
       "      <td>0</td>\n",
       "      <td>987.226909</td>\n",
       "      <td>0.000000</td>\n",
       "      <td>987.226909</td>\n",
       "      <td>0.000000</td>\n",
       "    </tr>\n",
       "    <tr>\n",
       "      <th>411</th>\n",
       "      <td>2025-03-10 12:00:00</td>\n",
       "      <td>BUY</td>\n",
       "      <td>92.91</td>\n",
       "      <td>0</td>\n",
       "      <td>0.000000</td>\n",
       "      <td>10.615000</td>\n",
       "      <td>986.239682</td>\n",
       "      <td>-0.001000</td>\n",
       "    </tr>\n",
       "    <tr>\n",
       "      <th>532</th>\n",
       "      <td>2025-03-30 16:00:00</td>\n",
       "      <td>SELL</td>\n",
       "      <td>86.40</td>\n",
       "      <td>0</td>\n",
       "      <td>916.218893</td>\n",
       "      <td>0.000000</td>\n",
       "      <td>916.218893</td>\n",
       "      <td>-0.001347</td>\n",
       "    </tr>\n",
       "    <tr>\n",
       "      <th>537</th>\n",
       "      <td>2025-03-31 12:00:00</td>\n",
       "      <td>BUY</td>\n",
       "      <td>83.22</td>\n",
       "      <td>0</td>\n",
       "      <td>0.000000</td>\n",
       "      <td>10.998590</td>\n",
       "      <td>915.302675</td>\n",
       "      <td>-0.001000</td>\n",
       "    </tr>\n",
       "    <tr>\n",
       "      <th>539</th>\n",
       "      <td>2025-03-31 20:00:00</td>\n",
       "      <td>SELL</td>\n",
       "      <td>82.97</td>\n",
       "      <td>0</td>\n",
       "      <td>911.640474</td>\n",
       "      <td>0.000000</td>\n",
       "      <td>911.640474</td>\n",
       "      <td>-0.005316</td>\n",
       "    </tr>\n",
       "    <tr>\n",
       "      <th>543</th>\n",
       "      <td>2025-04-01 12:00:00</td>\n",
       "      <td>BUY</td>\n",
       "      <td>85.65</td>\n",
       "      <td>0</td>\n",
       "      <td>0.000000</td>\n",
       "      <td>10.633145</td>\n",
       "      <td>910.728834</td>\n",
       "      <td>-0.001000</td>\n",
       "    </tr>\n",
       "    <tr>\n",
       "      <th>563</th>\n",
       "      <td>2025-04-04 20:00:00</td>\n",
       "      <td>BUY</td>\n",
       "      <td>84.41</td>\n",
       "      <td>0</td>\n",
       "      <td>0.000000</td>\n",
       "      <td>10.633145</td>\n",
       "      <td>897.543734</td>\n",
       "      <td>0.000593</td>\n",
       "    </tr>\n",
       "    <tr>\n",
       "      <th>568</th>\n",
       "      <td>2025-04-05 16:00:00</td>\n",
       "      <td>SELL</td>\n",
       "      <td>81.94</td>\n",
       "      <td>0</td>\n",
       "      <td>870.408587</td>\n",
       "      <td>0.000000</td>\n",
       "      <td>870.408587</td>\n",
       "      <td>-0.004160</td>\n",
       "    </tr>\n",
       "    <tr>\n",
       "      <th>630</th>\n",
       "      <td>2025-04-16 00:00:00</td>\n",
       "      <td>SELL</td>\n",
       "      <td>75.97</td>\n",
       "      <td>0</td>\n",
       "      <td>870.408587</td>\n",
       "      <td>0.000000</td>\n",
       "      <td>870.408587</td>\n",
       "      <td>0.000000</td>\n",
       "    </tr>\n",
       "    <tr>\n",
       "      <th>635</th>\n",
       "      <td>2025-04-16 20:00:00</td>\n",
       "      <td>BUY</td>\n",
       "      <td>74.33</td>\n",
       "      <td>0</td>\n",
       "      <td>0.000000</td>\n",
       "      <td>11.698348</td>\n",
       "      <td>869.538179</td>\n",
       "      <td>-0.001000</td>\n",
       "    </tr>\n",
       "    <tr>\n",
       "      <th>664</th>\n",
       "      <td>2025-04-21 16:00:00</td>\n",
       "      <td>BUY</td>\n",
       "      <td>78.32</td>\n",
       "      <td>0</td>\n",
       "      <td>0.000000</td>\n",
       "      <td>11.698348</td>\n",
       "      <td>916.214586</td>\n",
       "      <td>-0.019529</td>\n",
       "    </tr>\n",
       "    <tr>\n",
       "      <th>669</th>\n",
       "      <td>2025-04-22 12:00:00</td>\n",
       "      <td>SELL</td>\n",
       "      <td>82.61</td>\n",
       "      <td>0</td>\n",
       "      <td>965.434096</td>\n",
       "      <td>0.000000</td>\n",
       "      <td>965.434096</td>\n",
       "      <td>0.034956</td>\n",
       "    </tr>\n",
       "    <tr>\n",
       "      <th>674</th>\n",
       "      <td>2025-04-23 08:00:00</td>\n",
       "      <td>BUY</td>\n",
       "      <td>84.10</td>\n",
       "      <td>0</td>\n",
       "      <td>0.000000</td>\n",
       "      <td>11.468117</td>\n",
       "      <td>964.468662</td>\n",
       "      <td>-0.001000</td>\n",
       "    </tr>\n",
       "    <tr>\n",
       "      <th>679</th>\n",
       "      <td>2025-04-24 04:00:00</td>\n",
       "      <td>SELL</td>\n",
       "      <td>81.86</td>\n",
       "      <td>0</td>\n",
       "      <td>937.841300</td>\n",
       "      <td>0.000000</td>\n",
       "      <td>937.841300</td>\n",
       "      <td>-0.000023</td>\n",
       "    </tr>\n",
       "  </tbody>\n",
       "</table>\n",
       "</div>"
      ],
      "text/plain": [
       "              timestamp signal   close  position         cash   holdings  \\\n",
       "58  2025-01-10 16:00:00   SELL  106.10         0  1000.000000   0.000000   \n",
       "63  2025-01-11 12:00:00    BUY  103.25         0     0.000000   9.675545   \n",
       "70  2025-01-12 16:00:00    BUY  103.92         0     0.000000   9.675545   \n",
       "72  2025-01-13 00:00:00   SELL  100.60         0   972.386446   0.000000   \n",
       "359 2025-03-01 20:00:00    BUY  124.31         0     0.000000   7.814448   \n",
       "364 2025-03-02 16:00:00   SELL  126.46         0   987.226909   0.000000   \n",
       "406 2025-03-09 16:00:00   SELL   97.31         0   987.226909   0.000000   \n",
       "411 2025-03-10 12:00:00    BUY   92.91         0     0.000000  10.615000   \n",
       "532 2025-03-30 16:00:00   SELL   86.40         0   916.218893   0.000000   \n",
       "537 2025-03-31 12:00:00    BUY   83.22         0     0.000000  10.998590   \n",
       "539 2025-03-31 20:00:00   SELL   82.97         0   911.640474   0.000000   \n",
       "543 2025-04-01 12:00:00    BUY   85.65         0     0.000000  10.633145   \n",
       "563 2025-04-04 20:00:00    BUY   84.41         0     0.000000  10.633145   \n",
       "568 2025-04-05 16:00:00   SELL   81.94         0   870.408587   0.000000   \n",
       "630 2025-04-16 00:00:00   SELL   75.97         0   870.408587   0.000000   \n",
       "635 2025-04-16 20:00:00    BUY   74.33         0     0.000000  11.698348   \n",
       "664 2025-04-21 16:00:00    BUY   78.32         0     0.000000  11.698348   \n",
       "669 2025-04-22 12:00:00   SELL   82.61         0   965.434096   0.000000   \n",
       "674 2025-04-23 08:00:00    BUY   84.10         0     0.000000  11.468117   \n",
       "679 2025-04-24 04:00:00   SELL   81.86         0   937.841300   0.000000   \n",
       "\n",
       "         capital   returns  \n",
       "58   1000.000000  0.000000  \n",
       "63    999.000000 -0.001000  \n",
       "70   1005.482615  0.010305  \n",
       "72    972.386446 -0.017985  \n",
       "359   971.414060 -0.001000  \n",
       "364   987.226909  0.040296  \n",
       "406   987.226909  0.000000  \n",
       "411   986.239682 -0.001000  \n",
       "532   916.218893 -0.001347  \n",
       "537   915.302675 -0.001000  \n",
       "539   911.640474 -0.005316  \n",
       "543   910.728834 -0.001000  \n",
       "563   897.543734  0.000593  \n",
       "568   870.408587 -0.004160  \n",
       "630   870.408587  0.000000  \n",
       "635   869.538179 -0.001000  \n",
       "664   916.214586 -0.019529  \n",
       "669   965.434096  0.034956  \n",
       "674   964.468662 -0.001000  \n",
       "679   937.841300 -0.000023  "
      ]
     },
     "execution_count": 19,
     "metadata": {},
     "output_type": "execute_result"
    }
   ],
   "source": [
    "results_df[results_df[\"signal\"] != \"HOLD\"].head(20)\n"
   ]
  },
  {
   "cell_type": "code",
   "execution_count": 20,
   "metadata": {},
   "outputs": [
    {
     "data": {
      "text/plain": [
       "<Axes: title={'center': 'Capital Curve'}>"
      ]
     },
     "execution_count": 20,
     "metadata": {},
     "output_type": "execute_result"
    },
    {
     "data": {
      "image/png": "[encoded data removed]",
      "text/plain": [
       "<Figure size 640x480 with 1 Axes>"
      ]
     },
     "metadata": {},
     "output_type": "display_data"
    }
   ],
   "source": [
    "from matplotlib import pyplot\n",
    "results_df[\"capital\"].plot(title=\"Capital Curve\")\n"
   ]
  }
 ],
 "metadata": {
  "kernelspec": {
   "display_name": ".venv",
   "language": "python",
   "name": "python3"
  },
  "language_info": {
   "codemirror_mode": {
    "name": "ipython",
    "version": 3
   },
   "file_extension": ".py",
   "mimetype": "text/x-python",
   "name": "python",
   "nbconvert_exporter": "python",
   "pygments_lexer": "ipython3",
   "version": "3.13.3"
  }
 },
 "nbformat": 4,
 "nbformat_minor": 2
}
