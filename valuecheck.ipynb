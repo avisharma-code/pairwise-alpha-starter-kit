{
 "cells": [
  {
   "cell_type": "code",
   "execution_count": 1,
   "metadata": {},
   "outputs": [],
   "source": [
    "import pandas as pd\n",
    "import numpy as np"
   ]
  },
  {
   "cell_type": "code",
   "execution_count": 2,
   "metadata": {},
   "outputs": [],
   "source": [
    "btc = pd.read_csv(\"data/BTC_1H.csv\", parse_dates=[\"timestamp\"]).rename(columns={\"close\": \"close_BTC\"})\n",
    "eth = pd.read_csv(\"data/ETH_1H.csv\", parse_dates=[\"timestamp\"]).rename(columns={\"close\": \"close_ETH\"})\n",
    "sol = pd.read_csv(\"data/SOL_1H.csv\", parse_dates=[\"timestamp\"]).rename(columns={\"close\": \"close_SOL\"})\n",
    "ltc = pd.read_csv(\"data/LTC_1H.csv\", parse_dates=[\"timestamp\"])\n",
    "\n"
   ]
  },
  {
   "cell_type": "code",
   "execution_count": 3,
   "metadata": {},
   "outputs": [],
   "source": [
    "anchor = pd.merge(\n",
    "    btc[[\"timestamp\", \"close_BTC\"]],\n",
    "    eth[[\"timestamp\", \"close_ETH\"]],\n",
    "    on=\"timestamp\", how=\"inner\"\n",
    ")\n",
    "\n"
   ]
  },
  {
   "cell_type": "code",
   "execution_count": 5,
   "metadata": {},
   "outputs": [
    {
     "name": "stdout",
     "output_type": "stream",
     "text": [
      "Avg daily USD volume: 104172627.2808361\n"
     ]
    }
   ],
   "source": [
    "\n",
    "ltc[\"usd_volume\"] = ltc[\"close\"] * ltc[\"volume\"]\n",
    "ltc = ltc[ltc[\"timestamp\"] < \"2025-05-09\"]\n",
    "daily = ltc.set_index(\"timestamp\")[\"usd_volume\"].resample(\"D\").sum()\n",
    "print(\"Avg daily USD volume:\", daily.mean())\n"
   ]
  },
  {
   "cell_type": "markdown",
   "metadata": {},
   "source": [
    "##Eligibility of LTC confirmed"
   ]
  },
  {
   "cell_type": "code",
   "execution_count": 6,
   "metadata": {},
   "outputs": [],
   "source": [
    "from strategy import generate_signals\n",
    "from backtest import backtest_signals"
   ]
  },
  {
   "cell_type": "code",
   "execution_count": 7,
   "metadata": {},
   "outputs": [
    {
     "name": "stdout",
     "output_type": "stream",
     "text": [
      "signal\n",
      "HOLD    3064\n",
      "BUY        4\n",
      "SELL       4\n",
      "Name: count, dtype: int64\n"
     ]
    }
   ],
   "source": [
    "signals = generate_signals(ltc, anchor)\n",
    "print(signals['signal'].value_counts())\n",
    "\n"
   ]
  },
  {
   "cell_type": "code",
   "execution_count": 8,
   "metadata": {},
   "outputs": [],
   "source": [
    "results_df, metrics = backtest_signals(signals, ltc)\n"
   ]
  },
  {
   "cell_type": "code",
   "execution_count": 9,
   "metadata": {},
   "outputs": [
    {
     "name": "stdout",
     "output_type": "stream",
     "text": [
      "{'final_capital': np.float64(1106.99), 'final_return_pct': np.float64(10.7), 'sharpe_ratio': np.float64(0.0146), 'max_drawdown_pct': np.float64(9.85)}\n"
     ]
    }
   ],
   "source": [
    "print(metrics)"
   ]
  }
 ],
 "metadata": {
  "kernelspec": {
   "display_name": "venv",
   "language": "python",
   "name": "python3"
  },
  "language_info": {
   "codemirror_mode": {
    "name": "ipython",
    "version": 3
   },
   "file_extension": ".py",
   "mimetype": "text/x-python",
   "name": "python",
   "nbconvert_exporter": "python",
   "pygments_lexer": "ipython3",
   "version": "3.12.10"
  }
 },
 "nbformat": 4,
 "nbformat_minor": 2
}
